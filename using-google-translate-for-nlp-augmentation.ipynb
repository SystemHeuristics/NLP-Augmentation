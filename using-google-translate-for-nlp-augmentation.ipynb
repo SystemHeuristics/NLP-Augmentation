{
 "cells": [
  {
   "cell_type": "markdown",
   "execution_count": null,
   "metadata": {
    "papermill": {
     "duration": 0.009036,
     "end_time": "2020-09-07T01:04:41.777402",
     "exception": false,
     "start_time": "2020-09-07T01:04:41.768366",
     "status": "completed"
    },
    "tags": []
   },
   "source": [
    "# NLP Augmentation (Offline)\n",
    "\n",
    "**In computer vision problems, there is a virtual infinitude of techniques you can use to augment your images ranging from simple techniques like randomly flipping images to blending images together with CutMix or MixUp. In natural language processing, it is not as easy to come up with similar augmentation strategies; we must be a little more creative**\n",
    "\n",
    "**The first idea I had was to randomly replace words with their synonyms or to randomly add word synonyms to the sequence, but then I saw [this kernel](https://www.kaggle.com/jpmiller/augmenting-data-with-translations) which is based on [this discussion thread](https://www.kaggle.com/c/jigsaw-toxic-comment-classification-challenge/discussion/48038) and realized we can do better: we can use translation to augment our data and do several things:**\n",
    "\n",
    "1. We can experiment and see if training our model on one language is better/worse than training on multiple languages\n",
    "2. We can change the distribution of languages in our dataset, perhaps translating sentences to low-resource languages like Swahili and Urdu\n",
    "3. We can randomly translate sentences to another language and then translate them back to the original like so:\n",
    "\n",
    "![](https://amitness.com/images/backtranslation-en-fr.png)\n",
    "\n",
    "*Image from [@amitness](https://www.kaggle.com/amitness)*\n",
    "\n",
    "**We can also apply this augmentation in two ways: offline augmentation or online augmentation. In the first, we augment before we feed to the model, adding to our dataset size. This is preferable for smaller datasets where we are not worried about training taking too long. When you can't afford an increase in size, you resort to online augmentation where augment the data every epoch. We will use offline augmentation in this commit (for more [see](https://www.kaggle.com/c/datasciencebowl/discussion/12597))**\n",
    "\n",
    "**For now, we will only translate to languages currently present in our dataset, but translating to languages outside of our dataset might give us better performance. Please note that some of these language codes are slightly different within the `googletrans` Python API. See [here](https://py-googletrans.readthedocs.io/en/latest/) for more**"
   ]
  },
  {
   "cell_type": "code",
   "execution_count": 1,
   "metadata": {
    "execution": {
     "iopub.execute_input": "2020-09-07T01:04:41.798711Z",
     "iopub.status.busy": "2020-09-07T01:04:41.797640Z",
     "iopub.status.idle": "2020-09-07T01:04:41.801159Z",
     "shell.execute_reply": "2020-09-07T01:04:41.800558Z"
    },
    "papermill": {
     "duration": 0.016205,
     "end_time": "2020-09-07T01:04:41.801312",
     "exception": false,
     "start_time": "2020-09-07T01:04:41.785107",
     "status": "completed"
    },
    "tags": []
   },
   "outputs": [],
   "source": [
    "GEN_BACK_TR = True\n",
    "\n",
    "GEN_UPSAMPLE = False\n",
    "\n",
    "GEN_EN_ONLY = False"
   ]
  },
  {
   "cell_type": "code",
   "execution_count": 2,
   "metadata": {
    "_cell_guid": "79c7e3d0-c299-4dcb-8224-4455121ee9b0",
    "_uuid": "d629ff2d2480ee46fbb7e2d37f6b5fab8052498a",
    "execution": {
     "iopub.execute_input": "2020-09-07T01:04:41.828175Z",
     "iopub.status.busy": "2020-09-07T01:04:41.827323Z",
     "iopub.status.idle": "2020-09-07T01:04:59.671308Z",
     "shell.execute_reply": "2020-09-07T01:04:59.670504Z"
    },
    "papermill": {
     "duration": 17.862437,
     "end_time": "2020-09-07T01:04:59.671436",
     "exception": false,
     "start_time": "2020-09-07T01:04:41.808999",
     "status": "completed"
    },
    "tags": []
   },
   "outputs": [
    {
     "name": "stdout",
     "output_type": "stream",
     "text": [
      "\u001b[33mWARNING: You are using pip version 20.1.1; however, version 20.2.2 is available.\r\n",
      "You should consider upgrading via the '/opt/conda/bin/python3.7 -m pip install --upgrade pip' command.\u001b[0m\r\n"
     ]
    }
   ],
   "source": [
    "#python basics\n",
    "from matplotlib import pyplot as plt\n",
    "import math, os, re, time\n",
    "import numpy as np, pandas as pd, seaborn as sns\n",
    "\n",
    "#nlp augmentation\n",
    "!pip install --quiet googletrans\n",
    "from googletrans import Translator\n",
    "\n",
    "#model evaluation\n",
    "from sklearn.model_selection import train_test_split, StratifiedKFold\n",
    "\n",
    "#for fast parallel processing\n",
    "from dask import bag, diagnostics"
   ]
  },
  {
   "cell_type": "code",
   "execution_count": 3,
   "metadata": {
    "execution": {
     "iopub.execute_input": "2020-09-07T01:04:59.701357Z",
     "iopub.status.busy": "2020-09-07T01:04:59.700382Z",
     "iopub.status.idle": "2020-09-07T01:05:01.289587Z",
     "shell.execute_reply": "2020-09-07T01:05:01.290131Z"
    },
    "papermill": {
     "duration": 1.610881,
     "end_time": "2020-09-07T01:05:01.290319",
     "exception": false,
     "start_time": "2020-09-07T01:04:59.679438",
     "status": "completed"
    },
    "tags": []
   },
   "outputs": [
    {
     "name": "stdout",
     "output_type": "stream",
     "text": [
      "I really have no idea what the output of this word string will be\n",
      "I really have no idea what the outcome of this series of words will be\n",
      "I really have no idea what this sequence of words will be like\n",
      "I really have no idea what the outcome of this string of words is\n",
      "I really don't know what the results of this word sequence will be.\n"
     ]
    }
   ],
   "source": [
    "def back_translate(sequence, PROB = 1):\n",
    "    languages = ['en', 'fr', 'th', 'tr', 'ur', 'ru', 'bg', 'de', 'ar', 'zh-cn', 'hi',\n",
    "                 'sw', 'vi', 'es', 'el']\n",
    "    \n",
    "    #instantiate translator\n",
    "    translator = Translator()\n",
    "    \n",
    "    #store original language so we can convert back\n",
    "    org_lang = translator.detect(sequence).lang\n",
    "    \n",
    "    #randomly choose language to translate sequence to  \n",
    "    random_lang = np.random.choice([lang for lang in languages if lang is not org_lang])\n",
    "    \n",
    "    if org_lang in languages:\n",
    "        #translate to new language and back to original\n",
    "        translated = translator.translate(sequence, dest = random_lang).text\n",
    "        #translate back to original language\n",
    "        translated_back = translator.translate(translated, dest = org_lang).text\n",
    "    \n",
    "        #apply with certain probability\n",
    "        if np.random.uniform(0, 1) <= PROB:\n",
    "            output_sequence = translated_back\n",
    "        else:\n",
    "            output_sequence = sequence\n",
    "            \n",
    "    #if detected language not in our list of languages, do nothing\n",
    "    else:\n",
    "        output_sequence = sequence\n",
    "    \n",
    "    return output_sequence\n",
    "\n",
    "#check performance\n",
    "for i in range(5):\n",
    "    output = back_translate('I genuinely have no idea what the output of this sequence of words will be')\n",
    "    print(output)"
   ]
  },
  {
   "cell_type": "code",
   "execution_count": 4,
   "metadata": {
    "execution": {
     "iopub.execute_input": "2020-09-07T01:05:01.315957Z",
     "iopub.status.busy": "2020-09-07T01:05:01.315213Z",
     "iopub.status.idle": "2020-09-07T01:05:01.318864Z",
     "shell.execute_reply": "2020-09-07T01:05:01.318106Z"
    },
    "papermill": {
     "duration": 0.020212,
     "end_time": "2020-09-07T01:05:01.318982",
     "exception": false,
     "start_time": "2020-09-07T01:05:01.298770",
     "status": "completed"
    },
    "tags": []
   },
   "outputs": [],
   "source": [
    "#applies above define function with Dask\n",
    "def back_translate_parallel(dataset):\n",
    "    prem_bag = bag.from_sequence(dataset['premise'].tolist()).map(back_translate)\n",
    "    hyp_bag =  bag.from_sequence(dataset['hypothesis'].tolist()).map(back_translate)\n",
    "    \n",
    "    with diagnostics.ProgressBar():\n",
    "        prems = prem_bag.compute()\n",
    "        hyps = hyp_bag.compute()\n",
    "\n",
    "    #pair premises and hypothesis\n",
    "    dataset[['premise', 'hypothesis']] = list(zip(prems, hyps))\n",
    "    \n",
    "    return dataset"
   ]
  },
  {
   "cell_type": "code",
   "execution_count": 5,
   "metadata": {
    "execution": {
     "iopub.execute_input": "2020-09-07T01:05:01.390569Z",
     "iopub.status.busy": "2020-09-07T01:05:01.389807Z",
     "iopub.status.idle": "2020-09-07T01:05:01.494553Z",
     "shell.execute_reply": "2020-09-07T01:05:01.493919Z"
    },
    "papermill": {
     "duration": 0.167525,
     "end_time": "2020-09-07T01:05:01.494685",
     "exception": false,
     "start_time": "2020-09-07T01:05:01.327160",
     "status": "completed"
    },
    "tags": []
   },
   "outputs": [],
   "source": [
    "twice_train_aug = pd.read_csv('../input/contradictorywatsontwicetranslatedaug/twice_translated_aug_train.csv')\n",
    "twice_test_aug = pd.read_csv('../input/contradictorywatsontwicetranslatedaug/twice_translated_aug_test.csv')"
   ]
  },
  {
   "cell_type": "code",
   "execution_count": 6,
   "metadata": {
    "execution": {
     "iopub.execute_input": "2020-09-07T01:05:01.544575Z",
     "iopub.status.busy": "2020-09-07T01:05:01.530467Z",
     "iopub.status.idle": "2020-09-07T02:22:50.336248Z",
     "shell.execute_reply": "2020-09-07T02:22:50.335434Z"
    },
    "papermill": {
     "duration": 4668.833298,
     "end_time": "2020-09-07T02:22:50.336381",
     "exception": false,
     "start_time": "2020-09-07T01:05:01.503083",
     "status": "completed"
    },
    "tags": []
   },
   "outputs": [
    {
     "name": "stdout",
     "output_type": "stream",
     "text": [
      "[########################################] | 100% Completed | 29min  0.5s\n",
      "[########################################] | 100% Completed | 25min  3.1s\n",
      "[########################################] | 100% Completed | 12min 43.1s\n",
      "[########################################] | 100% Completed | 11min  1.2s\n"
     ]
    }
   ],
   "source": [
    "if GEN_BACK_TR:\n",
    "#now we apply translation augmentation\n",
    "    train_thrice_aug = twice_train_aug.pipe(back_translate_parallel)\n",
    "    test_thrice_aug = twice_test_aug.pipe(back_translate_parallel)\n",
    "    \n",
    "    train_thrice_aug.to_csv('thrice_translation_aug_train.csv')\n",
    "    test_thrice_aug.to_csv('thrice_translation_aug_test.csv')"
   ]
  },
  {
   "cell_type": "markdown",
   "execution_count": null,
   "metadata": {
    "papermill": {
     "duration": 3.046882,
     "end_time": "2020-09-07T02:22:56.555367",
     "exception": false,
     "start_time": "2020-09-07T02:22:53.508485",
     "status": "completed"
    },
    "tags": []
   },
   "source": [
    "# For TTA\n",
    "\n",
    "**I have already created datasets where each premise/hypothesis is separately mapped to a random language and back: these datasets can be found [here](https://www.kaggle.com/tuckerarrants/contradictorywatsontranslationaug) and [here](https://www.kaggle.com/tuckerarrants/contradictorywatsontwicetranslatedaug). One is translated a single time and the other is twice translated:**\n",
    "\n",
    "**Note that we can augment the test set as well and use test time augmentation (TTA) where we make separate predictions on the original sequences and the augmented sequences, and then use the average of the predictions for our final predictions:**"
   ]
  },
  {
   "cell_type": "code",
   "execution_count": 7,
   "metadata": {
    "execution": {
     "iopub.execute_input": "2020-09-07T02:23:02.768847Z",
     "iopub.status.busy": "2020-09-07T02:23:02.768071Z",
     "iopub.status.idle": "2020-09-07T02:23:03.043672Z",
     "shell.execute_reply": "2020-09-07T02:23:03.044287Z"
    },
    "papermill": {
     "duration": 3.431222,
     "end_time": "2020-09-07T02:23:03.044443",
     "exception": false,
     "start_time": "2020-09-07T02:22:59.613221",
     "status": "completed"
    },
    "tags": []
   },
   "outputs": [
    {
     "name": "stdout",
     "output_type": "stream",
     "text": [
      "(12120, 6)\n"
     ]
    },
    {
     "data": {
      "text/html": [
       "<div>\n",
       "<style scoped>\n",
       "    .dataframe tbody tr th:only-of-type {\n",
       "        vertical-align: middle;\n",
       "    }\n",
       "\n",
       "    .dataframe tbody tr th {\n",
       "        vertical-align: top;\n",
       "    }\n",
       "\n",
       "    .dataframe thead th {\n",
       "        text-align: right;\n",
       "    }\n",
       "</style>\n",
       "<table border=\"1\" class=\"dataframe\">\n",
       "  <thead>\n",
       "    <tr style=\"text-align: right;\">\n",
       "      <th></th>\n",
       "      <th>id</th>\n",
       "      <th>premise</th>\n",
       "      <th>hypothesis</th>\n",
       "      <th>lang_abv</th>\n",
       "      <th>language</th>\n",
       "      <th>label</th>\n",
       "    </tr>\n",
       "  </thead>\n",
       "  <tbody>\n",
       "    <tr>\n",
       "      <th>0</th>\n",
       "      <td>5130fd2cb5</td>\n",
       "      <td>and these comments were considered in formulat...</td>\n",
       "      <td>The rules developed in the interim were put to...</td>\n",
       "      <td>en</td>\n",
       "      <td>English</td>\n",
       "      <td>0</td>\n",
       "    </tr>\n",
       "    <tr>\n",
       "      <th>1</th>\n",
       "      <td>5b72532a0b</td>\n",
       "      <td>These are issues that we wrestle with in pract...</td>\n",
       "      <td>Practice groups are not permitted to work on t...</td>\n",
       "      <td>en</td>\n",
       "      <td>English</td>\n",
       "      <td>2</td>\n",
       "    </tr>\n",
       "    <tr>\n",
       "      <th>2</th>\n",
       "      <td>3931fbe82a</td>\n",
       "      <td>Des petites choses comme celles-là font une di...</td>\n",
       "      <td>J'essayais d'accomplir quelque chose.</td>\n",
       "      <td>fr</td>\n",
       "      <td>French</td>\n",
       "      <td>0</td>\n",
       "    </tr>\n",
       "    <tr>\n",
       "      <th>3</th>\n",
       "      <td>5622f0c60b</td>\n",
       "      <td>you know they can't really defend themselves l...</td>\n",
       "      <td>They can't defend themselves because of their ...</td>\n",
       "      <td>en</td>\n",
       "      <td>English</td>\n",
       "      <td>0</td>\n",
       "    </tr>\n",
       "    <tr>\n",
       "      <th>4</th>\n",
       "      <td>86aaa48b45</td>\n",
       "      <td>ในการเล่นบทบาทสมมุติก็เช่นกัน โอกาสที่จะได้แสด...</td>\n",
       "      <td>เด็กสามารถเห็นได้ว่าชาติพันธุ์แตกต่างกันอย่างไร</td>\n",
       "      <td>th</td>\n",
       "      <td>Thai</td>\n",
       "      <td>1</td>\n",
       "    </tr>\n",
       "  </tbody>\n",
       "</table>\n",
       "</div>"
      ],
      "text/plain": [
       "           id                                            premise  \\\n",
       "0  5130fd2cb5  and these comments were considered in formulat...   \n",
       "1  5b72532a0b  These are issues that we wrestle with in pract...   \n",
       "2  3931fbe82a  Des petites choses comme celles-là font une di...   \n",
       "3  5622f0c60b  you know they can't really defend themselves l...   \n",
       "4  86aaa48b45  ในการเล่นบทบาทสมมุติก็เช่นกัน โอกาสที่จะได้แสด...   \n",
       "\n",
       "                                          hypothesis lang_abv language  label  \n",
       "0  The rules developed in the interim were put to...       en  English      0  \n",
       "1  Practice groups are not permitted to work on t...       en  English      2  \n",
       "2              J'essayais d'accomplir quelque chose.       fr   French      0  \n",
       "3  They can't defend themselves because of their ...       en  English      0  \n",
       "4    เด็กสามารถเห็นได้ว่าชาติพันธุ์แตกต่างกันอย่างไร       th     Thai      1  "
      ]
     },
     "execution_count": 7,
     "metadata": {},
     "output_type": "execute_result"
    }
   ],
   "source": [
    "#offline loading\n",
    "train = pd.read_csv(\"../input/contradictory-my-dear-watson/train.csv\")\n",
    "test = pd.read_csv(\"../input/contradictory-my-dear-watson/test.csv\")\n",
    "\n",
    "train_aug = pd.read_csv(\"../input/contradictorywatsontwicetranslatedaug/translation_aug_train.csv\")\n",
    "test_aug = pd.read_csv(\"../input/contradictorywatsontwicetranslatedaug/translation_aug_test.csv\")\n",
    "\n",
    "train_twice_aug = pd.read_csv(\"../input/contradictorywatsontwicetranslatedaug/twice_translated_aug_train.csv\")\n",
    "test_twice_aug = pd.read_csv(\"../input/contradictorywatsontwicetranslatedaug/twice_translated_aug_test.csv\")\n",
    "\n",
    "#view original\n",
    "print(train.shape)\n",
    "train.head()"
   ]
  },
  {
   "cell_type": "code",
   "execution_count": 8,
   "metadata": {
    "execution": {
     "iopub.execute_input": "2020-09-07T02:23:09.324777Z",
     "iopub.status.busy": "2020-09-07T02:23:09.317800Z",
     "iopub.status.idle": "2020-09-07T02:23:09.331179Z",
     "shell.execute_reply": "2020-09-07T02:23:09.330424Z"
    },
    "papermill": {
     "duration": 3.081734,
     "end_time": "2020-09-07T02:23:09.331332",
     "exception": false,
     "start_time": "2020-09-07T02:23:06.249598",
     "status": "completed"
    },
    "tags": []
   },
   "outputs": [
    {
     "name": "stdout",
     "output_type": "stream",
     "text": [
      "(12120, 6)\n"
     ]
    },
    {
     "data": {
      "text/html": [
       "<div>\n",
       "<style scoped>\n",
       "    .dataframe tbody tr th:only-of-type {\n",
       "        vertical-align: middle;\n",
       "    }\n",
       "\n",
       "    .dataframe tbody tr th {\n",
       "        vertical-align: top;\n",
       "    }\n",
       "\n",
       "    .dataframe thead th {\n",
       "        text-align: right;\n",
       "    }\n",
       "</style>\n",
       "<table border=\"1\" class=\"dataframe\">\n",
       "  <thead>\n",
       "    <tr style=\"text-align: right;\">\n",
       "      <th></th>\n",
       "      <th>id</th>\n",
       "      <th>premise</th>\n",
       "      <th>hypothesis</th>\n",
       "      <th>lang_abv</th>\n",
       "      <th>language</th>\n",
       "      <th>label</th>\n",
       "    </tr>\n",
       "  </thead>\n",
       "  <tbody>\n",
       "    <tr>\n",
       "      <th>0</th>\n",
       "      <td>5130fd2cb5</td>\n",
       "      <td>and these ideas were considered in the develop...</td>\n",
       "      <td>The rules developed in the interim were taken ...</td>\n",
       "      <td>en</td>\n",
       "      <td>English</td>\n",
       "      <td>0</td>\n",
       "    </tr>\n",
       "    <tr>\n",
       "      <th>1</th>\n",
       "      <td>5b72532a0b</td>\n",
       "      <td>These are the challenges we face in practice w...</td>\n",
       "      <td>Practice groups are not permitted to work on t...</td>\n",
       "      <td>en</td>\n",
       "      <td>English</td>\n",
       "      <td>2</td>\n",
       "    </tr>\n",
       "    <tr>\n",
       "      <th>2</th>\n",
       "      <td>3931fbe82a</td>\n",
       "      <td>Ces petites choses font une grande différence ...</td>\n",
       "      <td>J'essaye d'accomplir quelque chose.</td>\n",
       "      <td>fr</td>\n",
       "      <td>French</td>\n",
       "      <td>0</td>\n",
       "    </tr>\n",
       "    <tr>\n",
       "      <th>3</th>\n",
       "      <td>5622f0c60b</td>\n",
       "      <td>Do you know that they can't really defend them...</td>\n",
       "      <td>They cannot protect themselves because of age.</td>\n",
       "      <td>en</td>\n",
       "      <td>English</td>\n",
       "      <td>0</td>\n",
       "    </tr>\n",
       "    <tr>\n",
       "      <th>4</th>\n",
       "      <td>86aaa48b45</td>\n",
       "      <td>เล่นตามบทบาทด้วย โอกาสในการแสดงและเล่นบทบาทหลา...</td>\n",
       "      <td>เด็ก ๆ สามารถเห็นได้ว่าชาติพันธุ์ต่างๆมีความแต...</td>\n",
       "      <td>th</td>\n",
       "      <td>Thai</td>\n",
       "      <td>1</td>\n",
       "    </tr>\n",
       "  </tbody>\n",
       "</table>\n",
       "</div>"
      ],
      "text/plain": [
       "           id                                            premise  \\\n",
       "0  5130fd2cb5  and these ideas were considered in the develop...   \n",
       "1  5b72532a0b  These are the challenges we face in practice w...   \n",
       "2  3931fbe82a  Ces petites choses font une grande différence ...   \n",
       "3  5622f0c60b  Do you know that they can't really defend them...   \n",
       "4  86aaa48b45  เล่นตามบทบาทด้วย โอกาสในการแสดงและเล่นบทบาทหลา...   \n",
       "\n",
       "                                          hypothesis lang_abv language  label  \n",
       "0  The rules developed in the interim were taken ...       en  English      0  \n",
       "1  Practice groups are not permitted to work on t...       en  English      2  \n",
       "2                J'essaye d'accomplir quelque chose.       fr   French      0  \n",
       "3     They cannot protect themselves because of age.       en  English      0  \n",
       "4  เด็ก ๆ สามารถเห็นได้ว่าชาติพันธุ์ต่างๆมีความแต...       th     Thai      1  "
      ]
     },
     "execution_count": 8,
     "metadata": {},
     "output_type": "execute_result"
    }
   ],
   "source": [
    "#view first aug\n",
    "print(train_aug.shape)\n",
    "train_aug.head()"
   ]
  },
  {
   "cell_type": "code",
   "execution_count": 9,
   "metadata": {
    "execution": {
     "iopub.execute_input": "2020-09-07T02:23:15.749831Z",
     "iopub.status.busy": "2020-09-07T02:23:15.749036Z",
     "iopub.status.idle": "2020-09-07T02:23:15.754802Z",
     "shell.execute_reply": "2020-09-07T02:23:15.755527Z"
    },
    "papermill": {
     "duration": 3.249449,
     "end_time": "2020-09-07T02:23:15.755703",
     "exception": false,
     "start_time": "2020-09-07T02:23:12.506254",
     "status": "completed"
    },
    "tags": []
   },
   "outputs": [
    {
     "name": "stdout",
     "output_type": "stream",
     "text": [
      "(12120, 6)\n"
     ]
    },
    {
     "data": {
      "text/html": [
       "<div>\n",
       "<style scoped>\n",
       "    .dataframe tbody tr th:only-of-type {\n",
       "        vertical-align: middle;\n",
       "    }\n",
       "\n",
       "    .dataframe tbody tr th {\n",
       "        vertical-align: top;\n",
       "    }\n",
       "\n",
       "    .dataframe thead th {\n",
       "        text-align: right;\n",
       "    }\n",
       "</style>\n",
       "<table border=\"1\" class=\"dataframe\">\n",
       "  <thead>\n",
       "    <tr style=\"text-align: right;\">\n",
       "      <th></th>\n",
       "      <th>id</th>\n",
       "      <th>premise</th>\n",
       "      <th>hypothesis</th>\n",
       "      <th>lang_abv</th>\n",
       "      <th>language</th>\n",
       "      <th>label</th>\n",
       "    </tr>\n",
       "  </thead>\n",
       "  <tbody>\n",
       "    <tr>\n",
       "      <th>0</th>\n",
       "      <td>5130fd2cb5</td>\n",
       "      <td>and these ideas were taken into consideration ...</td>\n",
       "      <td>Interim rules developed in conjunction with th...</td>\n",
       "      <td>en</td>\n",
       "      <td>English</td>\n",
       "      <td>0</td>\n",
       "    </tr>\n",
       "    <tr>\n",
       "      <th>1</th>\n",
       "      <td>5b72532a0b</td>\n",
       "      <td>These are the challenges we face in practice w...</td>\n",
       "      <td>Practice groups are not allowed to deal with t...</td>\n",
       "      <td>en</td>\n",
       "      <td>English</td>\n",
       "      <td>2</td>\n",
       "    </tr>\n",
       "    <tr>\n",
       "      <th>2</th>\n",
       "      <td>3931fbe82a</td>\n",
       "      <td>Ces petites choses font une grande différence ...</td>\n",
       "      <td>J'essaye d'accomplir quelque chose.</td>\n",
       "      <td>fr</td>\n",
       "      <td>French</td>\n",
       "      <td>0</td>\n",
       "    </tr>\n",
       "    <tr>\n",
       "      <th>3</th>\n",
       "      <td>5622f0c60b</td>\n",
       "      <td>Do you know that they can't really defend them...</td>\n",
       "      <td>They cannot protect themselves because of age.</td>\n",
       "      <td>en</td>\n",
       "      <td>English</td>\n",
       "      <td>0</td>\n",
       "    </tr>\n",
       "    <tr>\n",
       "      <th>4</th>\n",
       "      <td>86aaa48b45</td>\n",
       "      <td>การเล่นบทบาทสมมติยังสามารถช่วยให้เกิดโอกาสในกา...</td>\n",
       "      <td>เด็ก ๆ สามารถเห็นโครงสร้างทางชาติพันธุ์ที่แตกต...</td>\n",
       "      <td>th</td>\n",
       "      <td>Thai</td>\n",
       "      <td>1</td>\n",
       "    </tr>\n",
       "  </tbody>\n",
       "</table>\n",
       "</div>"
      ],
      "text/plain": [
       "           id                                            premise  \\\n",
       "0  5130fd2cb5  and these ideas were taken into consideration ...   \n",
       "1  5b72532a0b  These are the challenges we face in practice w...   \n",
       "2  3931fbe82a  Ces petites choses font une grande différence ...   \n",
       "3  5622f0c60b  Do you know that they can't really defend them...   \n",
       "4  86aaa48b45  การเล่นบทบาทสมมติยังสามารถช่วยให้เกิดโอกาสในกา...   \n",
       "\n",
       "                                          hypothesis lang_abv language  label  \n",
       "0  Interim rules developed in conjunction with th...       en  English      0  \n",
       "1  Practice groups are not allowed to deal with t...       en  English      2  \n",
       "2                J'essaye d'accomplir quelque chose.       fr   French      0  \n",
       "3     They cannot protect themselves because of age.       en  English      0  \n",
       "4  เด็ก ๆ สามารถเห็นโครงสร้างทางชาติพันธุ์ที่แตกต...       th     Thai      1  "
      ]
     },
     "execution_count": 9,
     "metadata": {},
     "output_type": "execute_result"
    }
   ],
   "source": [
    "#view second aug\n",
    "print(train_twice_aug.shape)\n",
    "train_twice_aug.head()"
   ]
  },
  {
   "cell_type": "code",
   "execution_count": 10,
   "metadata": {
    "execution": {
     "iopub.execute_input": "2020-09-07T02:23:22.006255Z",
     "iopub.status.busy": "2020-09-07T02:23:22.005457Z",
     "iopub.status.idle": "2020-09-07T02:23:22.010266Z",
     "shell.execute_reply": "2020-09-07T02:23:22.010863Z"
    },
    "papermill": {
     "duration": 3.200631,
     "end_time": "2020-09-07T02:23:22.011016",
     "exception": false,
     "start_time": "2020-09-07T02:23:18.810385",
     "status": "completed"
    },
    "tags": []
   },
   "outputs": [
    {
     "name": "stdout",
     "output_type": "stream",
     "text": [
      "(12120, 6)\n"
     ]
    },
    {
     "data": {
      "text/html": [
       "<div>\n",
       "<style scoped>\n",
       "    .dataframe tbody tr th:only-of-type {\n",
       "        vertical-align: middle;\n",
       "    }\n",
       "\n",
       "    .dataframe tbody tr th {\n",
       "        vertical-align: top;\n",
       "    }\n",
       "\n",
       "    .dataframe thead th {\n",
       "        text-align: right;\n",
       "    }\n",
       "</style>\n",
       "<table border=\"1\" class=\"dataframe\">\n",
       "  <thead>\n",
       "    <tr style=\"text-align: right;\">\n",
       "      <th></th>\n",
       "      <th>id</th>\n",
       "      <th>premise</th>\n",
       "      <th>hypothesis</th>\n",
       "      <th>lang_abv</th>\n",
       "      <th>language</th>\n",
       "      <th>label</th>\n",
       "    </tr>\n",
       "  </thead>\n",
       "  <tbody>\n",
       "    <tr>\n",
       "      <th>0</th>\n",
       "      <td>5130fd2cb5</td>\n",
       "      <td>and these ideas were taken into account in the...</td>\n",
       "      <td>Provisional rules have been developed in conne...</td>\n",
       "      <td>en</td>\n",
       "      <td>English</td>\n",
       "      <td>0</td>\n",
       "    </tr>\n",
       "    <tr>\n",
       "      <th>1</th>\n",
       "      <td>5b72532a0b</td>\n",
       "      <td>“These are the challenges we face in practice ...</td>\n",
       "      <td>Practice groups are not allowed to deal with t...</td>\n",
       "      <td>en</td>\n",
       "      <td>English</td>\n",
       "      <td>2</td>\n",
       "    </tr>\n",
       "    <tr>\n",
       "      <th>2</th>\n",
       "      <td>3931fbe82a</td>\n",
       "      <td>Ces petites choses font une grande différence ...</td>\n",
       "      <td>J'essaye de réaliser quelque chose.</td>\n",
       "      <td>fr</td>\n",
       "      <td>French</td>\n",
       "      <td>0</td>\n",
       "    </tr>\n",
       "    <tr>\n",
       "      <th>3</th>\n",
       "      <td>5622f0c60b</td>\n",
       "      <td>Did you know they can't really defend themselv...</td>\n",
       "      <td>They cannot protect themselves due to their age.</td>\n",
       "      <td>en</td>\n",
       "      <td>English</td>\n",
       "      <td>0</td>\n",
       "    </tr>\n",
       "    <tr>\n",
       "      <th>4</th>\n",
       "      <td>86aaa48b45</td>\n",
       "      <td>การสวมบทบาทยังสามารถช่วยให้โอกาสในการทำงานและก...</td>\n",
       "      <td>เด็กสามารถเห็นโครงสร้างทางชาติพันธุ์ที่แตกต่างกัน</td>\n",
       "      <td>th</td>\n",
       "      <td>Thai</td>\n",
       "      <td>1</td>\n",
       "    </tr>\n",
       "  </tbody>\n",
       "</table>\n",
       "</div>"
      ],
      "text/plain": [
       "           id                                            premise  \\\n",
       "0  5130fd2cb5  and these ideas were taken into account in the...   \n",
       "1  5b72532a0b  “These are the challenges we face in practice ...   \n",
       "2  3931fbe82a  Ces petites choses font une grande différence ...   \n",
       "3  5622f0c60b  Did you know they can't really defend themselv...   \n",
       "4  86aaa48b45  การสวมบทบาทยังสามารถช่วยให้โอกาสในการทำงานและก...   \n",
       "\n",
       "                                          hypothesis lang_abv language  label  \n",
       "0  Provisional rules have been developed in conne...       en  English      0  \n",
       "1  Practice groups are not allowed to deal with t...       en  English      2  \n",
       "2                J'essaye de réaliser quelque chose.       fr   French      0  \n",
       "3   They cannot protect themselves due to their age.       en  English      0  \n",
       "4  เด็กสามารถเห็นโครงสร้างทางชาติพันธุ์ที่แตกต่างกัน       th     Thai      1  "
      ]
     },
     "execution_count": 10,
     "metadata": {},
     "output_type": "execute_result"
    }
   ],
   "source": [
    "#view third aug\n",
    "print(train_thrice_aug.shape)\n",
    "train_thrice_aug.head()"
   ]
  },
  {
   "cell_type": "markdown",
   "execution_count": null,
   "metadata": {
    "papermill": {
     "duration": 3.200808,
     "end_time": "2020-09-07T02:23:28.312768",
     "exception": false,
     "start_time": "2020-09-07T02:23:25.111960",
     "status": "completed"
    },
    "tags": []
   },
   "source": [
    "**Wonderful! We can see that this translation procedure consistently alters our sentences without much information loss. Feel free to use these datasets for your own experiments and see how they improve your model's performance**"
   ]
  },
  {
   "cell_type": "markdown",
   "execution_count": null,
   "metadata": {
    "papermill": {
     "duration": 3.111072,
     "end_time": "2020-09-07T02:23:34.472399",
     "exception": false,
     "start_time": "2020-09-07T02:23:31.361327",
     "status": "completed"
    },
    "tags": []
   },
   "source": [
    "# For Oversampling\n",
    "\n",
    "**Now we will use the same idea to create a training dataset of only undersampled languages, like Urdu and Swahili. The only difference here is that we are not translating to random languages or translating back to the original sentence:**"
   ]
  },
  {
   "cell_type": "code",
   "execution_count": 11,
   "metadata": {
    "execution": {
     "iopub.execute_input": "2020-09-07T02:23:40.738809Z",
     "iopub.status.busy": "2020-09-07T02:23:40.737734Z",
     "iopub.status.idle": "2020-09-07T02:23:40.742494Z",
     "shell.execute_reply": "2020-09-07T02:23:40.741879Z"
    },
    "papermill": {
     "duration": 3.06155,
     "end_time": "2020-09-07T02:23:40.742619",
     "exception": false,
     "start_time": "2020-09-07T02:23:37.681069",
     "status": "completed"
    },
    "tags": []
   },
   "outputs": [
    {
     "data": {
      "text/plain": [
       "English       6870\n",
       "Chinese        411\n",
       "Arabic         401\n",
       "French         390\n",
       "Swahili        385\n",
       "Urdu           381\n",
       "Vietnamese     379\n",
       "Russian        376\n",
       "Hindi          374\n",
       "Greek          372\n",
       "Thai           371\n",
       "Spanish        366\n",
       "German         351\n",
       "Turkish        351\n",
       "Bulgarian      342\n",
       "Name: language, dtype: int64"
      ]
     },
     "execution_count": 11,
     "metadata": {},
     "output_type": "execute_result"
    }
   ],
   "source": [
    "#check most undersampled languages in training dataset\n",
    "train['language'].value_counts()"
   ]
  },
  {
   "cell_type": "code",
   "execution_count": 12,
   "metadata": {
    "execution": {
     "iopub.execute_input": "2020-09-07T02:23:47.023428Z",
     "iopub.status.busy": "2020-09-07T02:23:47.022128Z",
     "iopub.status.idle": "2020-09-07T02:23:47.026298Z",
     "shell.execute_reply": "2020-09-07T02:23:47.026969Z"
    },
    "papermill": {
     "duration": 3.155557,
     "end_time": "2020-09-07T02:23:47.027117",
     "exception": false,
     "start_time": "2020-09-07T02:23:43.871560",
     "status": "completed"
    },
    "tags": []
   },
   "outputs": [
    {
     "data": {
      "text/plain": [
       "English       2945\n",
       "Spanish        175\n",
       "Swahili        172\n",
       "Russian        172\n",
       "Urdu           168\n",
       "Greek          168\n",
       "Turkish        167\n",
       "Thai           164\n",
       "Arabic         159\n",
       "French         157\n",
       "German         152\n",
       "Chinese        151\n",
       "Bulgarian      150\n",
       "Hindi          150\n",
       "Vietnamese     145\n",
       "Name: language, dtype: int64"
      ]
     },
     "execution_count": 12,
     "metadata": {},
     "output_type": "execute_result"
    }
   ],
   "source": [
    "#check most undersampled languages in test dataset\n",
    "test['language'].value_counts()"
   ]
  },
  {
   "cell_type": "markdown",
   "execution_count": null,
   "metadata": {
    "papermill": {
     "duration": 3.128012,
     "end_time": "2020-09-07T02:23:53.830653",
     "exception": false,
     "start_time": "2020-09-07T02:23:50.702641",
     "status": "completed"
    },
    "tags": []
   },
   "source": [
    "**We have a choose to make here: do we translate based on language prevalence in the training, testing dataset, or based on the languages that XLM-R was trained on? I will base my translation on the test set languages, so I will create a Vietnamese, Hindi, and Bulgarian training datasets, for now:**"
   ]
  },
  {
   "cell_type": "code",
   "execution_count": 13,
   "metadata": {
    "execution": {
     "iopub.execute_input": "2020-09-07T02:24:00.049707Z",
     "iopub.status.busy": "2020-09-07T02:24:00.048730Z",
     "iopub.status.idle": "2020-09-07T02:24:00.051650Z",
     "shell.execute_reply": "2020-09-07T02:24:00.051056Z"
    },
    "papermill": {
     "duration": 3.164142,
     "end_time": "2020-09-07T02:24:00.051779",
     "exception": false,
     "start_time": "2020-09-07T02:23:56.887637",
     "status": "completed"
    },
    "tags": []
   },
   "outputs": [],
   "source": [
    "def translation(sequence, lang):\n",
    "    \n",
    "    #instantiate translator\n",
    "    translator = Translator()\n",
    "    \n",
    "    org_lang = translator.detect(sequence).lang\n",
    "    \n",
    "    if lang is not org_lang:\n",
    "        #translate to new language and back to original\n",
    "        translated = translator.translate(sequence, dest = lang).text\n",
    "        \n",
    "    else:\n",
    "        translated = sequence\n",
    "    \n",
    "    return translated\n",
    "\n",
    "def translation_parallel(dataset, lang):\n",
    "    prem_bag = bag.from_sequence(dataset['premise'].tolist()).map(lambda x: translation(x, lang = lang))\n",
    "    hyp_bag =  bag.from_sequence(dataset['hypothesis'].tolist()).map(lambda x: translation(x, lang = lang))\n",
    "    \n",
    "    with diagnostics.ProgressBar():\n",
    "        prems = prem_bag.compute()\n",
    "        hyps = hyp_bag.compute()\n",
    "\n",
    "    #pair premises and hypothesis\n",
    "    dataset[['premise', 'hypothesis']] = list(zip(prems, hyps))\n",
    "    \n",
    "    return dataset"
   ]
  },
  {
   "cell_type": "code",
   "execution_count": 14,
   "metadata": {
    "execution": {
     "iopub.execute_input": "2020-09-07T02:24:06.324583Z",
     "iopub.status.busy": "2020-09-07T02:24:06.296654Z",
     "iopub.status.idle": "2020-09-07T02:24:06.702030Z",
     "shell.execute_reply": "2020-09-07T02:24:06.701250Z"
    },
    "papermill": {
     "duration": 3.592834,
     "end_time": "2020-09-07T02:24:06.702154",
     "exception": false,
     "start_time": "2020-09-07T02:24:03.109320",
     "status": "completed"
    },
    "tags": []
   },
   "outputs": [],
   "source": [
    "#translate to Vietnamese\n",
    "prem_bag_vi = bag.from_sequence(train['premise'].tolist()).map(lambda x: translation(x, lang = 'vi'))\n",
    "hyp_bag_vi =  bag.from_sequence(train['hypothesis'].tolist()).map(lambda x: translation(x, lang = 'vi'))\n",
    "\n",
    "#translate to Hindi\n",
    "prem_bag_hi = bag.from_sequence(train['premise'].tolist()).map(lambda x: translation(x, lang = 'hi'))\n",
    "hyp_bag_hi =  bag.from_sequence(train['hypothesis'].tolist()).map(lambda x: translation(x, lang = 'hi'))\n",
    "\n",
    "#translate to Bulgarian\n",
    "prem_bag_bg = bag.from_sequence(train['premise'].tolist()).map(lambda x: translation(x, lang = 'bg'))\n",
    "hyp_bag_bg =  bag.from_sequence(train['hypothesis'].tolist()).map(lambda x: translation(x, lang = 'bg'))\n",
    "\n",
    "#and compute\n",
    "if GEN_UPSAMPLE:\n",
    "    with diagnostics.ProgressBar():\n",
    "        print('Translating train to Vietnamese...')\n",
    "        prems_vi = prem_bag_vi.compute()\n",
    "        hyps_vi = hyp_bag_vi.compute()\n",
    "        print('Done'); print('')\n",
    "    \n",
    "        print('Translating train to Hindi...')\n",
    "        prems_hi = prem_bag_hi.compute()\n",
    "        hyps_hi = hyp_bag_hi.compute()\n",
    "        print('Done'); print('')\n",
    "    \n",
    "        print('Translating train to Bulgarian...')\n",
    "        prems_bg = prem_bag_bg.compute()\n",
    "        hyps_bg = hyp_bag_bg.compute()\n",
    "        print('Done')\n",
    "        \n",
    "else:\n",
    "    train_vi = pd.read_csv(\"../input/contradictorytranslatedtrain/train_vi.csv\")\n",
    "    train_hi = pd.read_csv(\"../input/contradictorytranslatedtrain/train_hi.csv\")\n",
    "    train_bg = pd.read_csv(\"../input/contradictorytranslatedtrain/train_bg.csv\")"
   ]
  },
  {
   "cell_type": "code",
   "execution_count": 15,
   "metadata": {
    "execution": {
     "iopub.execute_input": "2020-09-07T02:24:13.000717Z",
     "iopub.status.busy": "2020-09-07T02:24:12.999719Z",
     "iopub.status.idle": "2020-09-07T02:24:13.003946Z",
     "shell.execute_reply": "2020-09-07T02:24:13.004482Z"
    },
    "papermill": {
     "duration": 3.094809,
     "end_time": "2020-09-07T02:24:13.004646",
     "exception": false,
     "start_time": "2020-09-07T02:24:09.909837",
     "status": "completed"
    },
    "tags": []
   },
   "outputs": [
    {
     "data": {
      "text/html": [
       "<div>\n",
       "<style scoped>\n",
       "    .dataframe tbody tr th:only-of-type {\n",
       "        vertical-align: middle;\n",
       "    }\n",
       "\n",
       "    .dataframe tbody tr th {\n",
       "        vertical-align: top;\n",
       "    }\n",
       "\n",
       "    .dataframe thead th {\n",
       "        text-align: right;\n",
       "    }\n",
       "</style>\n",
       "<table border=\"1\" class=\"dataframe\">\n",
       "  <thead>\n",
       "    <tr style=\"text-align: right;\">\n",
       "      <th></th>\n",
       "      <th>id</th>\n",
       "      <th>premise</th>\n",
       "      <th>hypothesis</th>\n",
       "      <th>lang_abv</th>\n",
       "      <th>language</th>\n",
       "      <th>label</th>\n",
       "    </tr>\n",
       "  </thead>\n",
       "  <tbody>\n",
       "    <tr>\n",
       "      <th>0</th>\n",
       "      <td>5130fd2cb5</td>\n",
       "      <td>và những nhận xét này đã được xem xét trong vi...</td>\n",
       "      <td>Các quy tắc được phát triển trong thời gian tạ...</td>\n",
       "      <td>vi</td>\n",
       "      <td>Vietnamese</td>\n",
       "      <td>0</td>\n",
       "    </tr>\n",
       "    <tr>\n",
       "      <th>1</th>\n",
       "      <td>5b72532a0b</td>\n",
       "      <td>Bà nói, đây là những vấn đề mà chúng tôi phải ...</td>\n",
       "      <td>Các nhóm thực hành không được phép làm việc về...</td>\n",
       "      <td>vi</td>\n",
       "      <td>Vietnamese</td>\n",
       "      <td>2</td>\n",
       "    </tr>\n",
       "    <tr>\n",
       "      <th>2</th>\n",
       "      <td>3931fbe82a</td>\n",
       "      <td>Những điều nhỏ nhặt như thế này tạo ra sự khác...</td>\n",
       "      <td>Tôi đã cố gắng hoàn thành một cái gì đó.</td>\n",
       "      <td>vi</td>\n",
       "      <td>Vietnamese</td>\n",
       "      <td>0</td>\n",
       "    </tr>\n",
       "    <tr>\n",
       "      <th>3</th>\n",
       "      <td>5622f0c60b</td>\n",
       "      <td>bạn biết họ không thể thực sự tự vệ như ai đó ...</td>\n",
       "      <td>Họ không thể tự vệ vì tuổi của họ.</td>\n",
       "      <td>vi</td>\n",
       "      <td>Vietnamese</td>\n",
       "      <td>0</td>\n",
       "    </tr>\n",
       "    <tr>\n",
       "      <th>4</th>\n",
       "      <td>86aaa48b45</td>\n",
       "      <td>Trong vai trò là tốt Cơ hội thể hiện và đóng n...</td>\n",
       "      <td>Trẻ em có thể thấy các nhóm dân tộc khác nhau ...</td>\n",
       "      <td>vi</td>\n",
       "      <td>Vietnamese</td>\n",
       "      <td>1</td>\n",
       "    </tr>\n",
       "  </tbody>\n",
       "</table>\n",
       "</div>"
      ],
      "text/plain": [
       "           id                                            premise  \\\n",
       "0  5130fd2cb5  và những nhận xét này đã được xem xét trong vi...   \n",
       "1  5b72532a0b  Bà nói, đây là những vấn đề mà chúng tôi phải ...   \n",
       "2  3931fbe82a  Những điều nhỏ nhặt như thế này tạo ra sự khác...   \n",
       "3  5622f0c60b  bạn biết họ không thể thực sự tự vệ như ai đó ...   \n",
       "4  86aaa48b45  Trong vai trò là tốt Cơ hội thể hiện và đóng n...   \n",
       "\n",
       "                                          hypothesis lang_abv    language  \\\n",
       "0  Các quy tắc được phát triển trong thời gian tạ...       vi  Vietnamese   \n",
       "1  Các nhóm thực hành không được phép làm việc về...       vi  Vietnamese   \n",
       "2           Tôi đã cố gắng hoàn thành một cái gì đó.       vi  Vietnamese   \n",
       "3                 Họ không thể tự vệ vì tuổi của họ.       vi  Vietnamese   \n",
       "4  Trẻ em có thể thấy các nhóm dân tộc khác nhau ...       vi  Vietnamese   \n",
       "\n",
       "   label  \n",
       "0      0  \n",
       "1      2  \n",
       "2      0  \n",
       "3      0  \n",
       "4      1  "
      ]
     },
     "execution_count": 15,
     "metadata": {},
     "output_type": "execute_result"
    }
   ],
   "source": [
    "if GEN_UPSAMPLE:\n",
    "    #sanity check\n",
    "    train_vi = train\n",
    "    train_vi[['premise', 'hypothesis']] = list(zip(prems_vi, hyps_vi))\n",
    "    train_vi[['lang_abv', 'language']] = ['vi', 'Vietnamese']\n",
    "    train_vi.to_csv('train_vi.csv', index = False)\n",
    "train_vi.head()"
   ]
  },
  {
   "cell_type": "code",
   "execution_count": 16,
   "metadata": {
    "execution": {
     "iopub.execute_input": "2020-09-07T02:24:19.337765Z",
     "iopub.status.busy": "2020-09-07T02:24:19.336851Z",
     "iopub.status.idle": "2020-09-07T02:24:19.341661Z",
     "shell.execute_reply": "2020-09-07T02:24:19.340903Z"
    },
    "papermill": {
     "duration": 3.15515,
     "end_time": "2020-09-07T02:24:19.341782",
     "exception": false,
     "start_time": "2020-09-07T02:24:16.186632",
     "status": "completed"
    },
    "tags": []
   },
   "outputs": [
    {
     "data": {
      "text/html": [
       "<div>\n",
       "<style scoped>\n",
       "    .dataframe tbody tr th:only-of-type {\n",
       "        vertical-align: middle;\n",
       "    }\n",
       "\n",
       "    .dataframe tbody tr th {\n",
       "        vertical-align: top;\n",
       "    }\n",
       "\n",
       "    .dataframe thead th {\n",
       "        text-align: right;\n",
       "    }\n",
       "</style>\n",
       "<table border=\"1\" class=\"dataframe\">\n",
       "  <thead>\n",
       "    <tr style=\"text-align: right;\">\n",
       "      <th></th>\n",
       "      <th>id</th>\n",
       "      <th>premise</th>\n",
       "      <th>hypothesis</th>\n",
       "      <th>lang_abv</th>\n",
       "      <th>language</th>\n",
       "      <th>label</th>\n",
       "    </tr>\n",
       "  </thead>\n",
       "  <tbody>\n",
       "    <tr>\n",
       "      <th>0</th>\n",
       "      <td>5130fd2cb5</td>\n",
       "      <td>और इन टिप्पणियों को अंतरिम नियम बनाने पर विचार...</td>\n",
       "      <td>अंतरिम में विकसित नियमों को इन टिप्पणियों को ध...</td>\n",
       "      <td>hi</td>\n",
       "      <td>Hindi</td>\n",
       "      <td>0</td>\n",
       "    </tr>\n",
       "    <tr>\n",
       "      <th>1</th>\n",
       "      <td>5b72532a0b</td>\n",
       "      <td>उन्होंने कहा कि ये ऐसे मुद्दे हैं, जिन पर हम क...</td>\n",
       "      <td>अभ्यास समूहों को इन मुद्दों पर काम करने की अनु...</td>\n",
       "      <td>hi</td>\n",
       "      <td>Hindi</td>\n",
       "      <td>2</td>\n",
       "    </tr>\n",
       "    <tr>\n",
       "      <th>2</th>\n",
       "      <td>3931fbe82a</td>\n",
       "      <td>इस तरह की छोटी-छोटी चीजें जो मैं करने की कोशिश...</td>\n",
       "      <td>मैं कुछ पूरा करने की कोशिश कर रहा था।</td>\n",
       "      <td>hi</td>\n",
       "      <td>Hindi</td>\n",
       "      <td>0</td>\n",
       "    </tr>\n",
       "    <tr>\n",
       "      <th>3</th>\n",
       "      <td>5622f0c60b</td>\n",
       "      <td>तुम्हें पता है कि वे वास्तव में खुद का बचाव नह...</td>\n",
       "      <td>वे अपनी उम्र के कारण खुद का बचाव नहीं कर सकते।</td>\n",
       "      <td>hi</td>\n",
       "      <td>Hindi</td>\n",
       "      <td>0</td>\n",
       "    </tr>\n",
       "    <tr>\n",
       "      <th>4</th>\n",
       "      <td>86aaa48b45</td>\n",
       "      <td>भूमिका में भी एक साथ कई भूमिकाओं को व्यक्त करन...</td>\n",
       "      <td>बच्चे देख सकते हैं कि विभिन्न जातीय समूह कैसे ...</td>\n",
       "      <td>hi</td>\n",
       "      <td>Hindi</td>\n",
       "      <td>1</td>\n",
       "    </tr>\n",
       "  </tbody>\n",
       "</table>\n",
       "</div>"
      ],
      "text/plain": [
       "           id                                            premise  \\\n",
       "0  5130fd2cb5  और इन टिप्पणियों को अंतरिम नियम बनाने पर विचार...   \n",
       "1  5b72532a0b  उन्होंने कहा कि ये ऐसे मुद्दे हैं, जिन पर हम क...   \n",
       "2  3931fbe82a  इस तरह की छोटी-छोटी चीजें जो मैं करने की कोशिश...   \n",
       "3  5622f0c60b  तुम्हें पता है कि वे वास्तव में खुद का बचाव नह...   \n",
       "4  86aaa48b45  भूमिका में भी एक साथ कई भूमिकाओं को व्यक्त करन...   \n",
       "\n",
       "                                          hypothesis lang_abv language  label  \n",
       "0  अंतरिम में विकसित नियमों को इन टिप्पणियों को ध...       hi    Hindi      0  \n",
       "1  अभ्यास समूहों को इन मुद्दों पर काम करने की अनु...       hi    Hindi      2  \n",
       "2              मैं कुछ पूरा करने की कोशिश कर रहा था।       hi    Hindi      0  \n",
       "3     वे अपनी उम्र के कारण खुद का बचाव नहीं कर सकते।       hi    Hindi      0  \n",
       "4  बच्चे देख सकते हैं कि विभिन्न जातीय समूह कैसे ...       hi    Hindi      1  "
      ]
     },
     "execution_count": 16,
     "metadata": {},
     "output_type": "execute_result"
    }
   ],
   "source": [
    "if GEN_UPSAMPLE:\n",
    "    #sanity check\n",
    "    train_hi = train\n",
    "    train_hi[['premise', 'hypothesis']] = list(zip(prems_hi, hyps_hi))\n",
    "    train_hi[['lang_abv', 'language']] = ['hi', 'Hindi']\n",
    "    train_hi.to_csv('train_hi.csv', index = False)\n",
    "train_hi.head()"
   ]
  },
  {
   "cell_type": "code",
   "execution_count": 17,
   "metadata": {
    "execution": {
     "iopub.execute_input": "2020-09-07T02:24:25.709664Z",
     "iopub.status.busy": "2020-09-07T02:24:25.708771Z",
     "iopub.status.idle": "2020-09-07T02:24:25.713779Z",
     "shell.execute_reply": "2020-09-07T02:24:25.713027Z"
    },
    "papermill": {
     "duration": 3.168414,
     "end_time": "2020-09-07T02:24:25.713899",
     "exception": false,
     "start_time": "2020-09-07T02:24:22.545485",
     "status": "completed"
    },
    "tags": []
   },
   "outputs": [
    {
     "data": {
      "text/html": [
       "<div>\n",
       "<style scoped>\n",
       "    .dataframe tbody tr th:only-of-type {\n",
       "        vertical-align: middle;\n",
       "    }\n",
       "\n",
       "    .dataframe tbody tr th {\n",
       "        vertical-align: top;\n",
       "    }\n",
       "\n",
       "    .dataframe thead th {\n",
       "        text-align: right;\n",
       "    }\n",
       "</style>\n",
       "<table border=\"1\" class=\"dataframe\">\n",
       "  <thead>\n",
       "    <tr style=\"text-align: right;\">\n",
       "      <th></th>\n",
       "      <th>id</th>\n",
       "      <th>premise</th>\n",
       "      <th>hypothesis</th>\n",
       "      <th>lang_abv</th>\n",
       "      <th>language</th>\n",
       "      <th>label</th>\n",
       "    </tr>\n",
       "  </thead>\n",
       "  <tbody>\n",
       "    <tr>\n",
       "      <th>0</th>\n",
       "      <td>5130fd2cb5</td>\n",
       "      <td>и тези коментари бяха взети предвид при формул...</td>\n",
       "      <td>Правилата, разработени във временното време, б...</td>\n",
       "      <td>bg</td>\n",
       "      <td>Bulgarian</td>\n",
       "      <td>0</td>\n",
       "    </tr>\n",
       "    <tr>\n",
       "      <th>1</th>\n",
       "      <td>5b72532a0b</td>\n",
       "      <td>Това са проблеми, с които се борим в практичес...</td>\n",
       "      <td>Практическите групи не могат да работят по тез...</td>\n",
       "      <td>bg</td>\n",
       "      <td>Bulgarian</td>\n",
       "      <td>2</td>\n",
       "    </tr>\n",
       "    <tr>\n",
       "      <th>2</th>\n",
       "      <td>3931fbe82a</td>\n",
       "      <td>Малки неща като тези имат огромна разлика в то...</td>\n",
       "      <td>Опитвах се да постигна нещо.</td>\n",
       "      <td>bg</td>\n",
       "      <td>Bulgarian</td>\n",
       "      <td>0</td>\n",
       "    </tr>\n",
       "    <tr>\n",
       "      <th>3</th>\n",
       "      <td>5622f0c60b</td>\n",
       "      <td>знаете, че не могат наистина да се защитят кат...</td>\n",
       "      <td>Те не могат да се защитят поради възрастта си.</td>\n",
       "      <td>bg</td>\n",
       "      <td>Bulgarian</td>\n",
       "      <td>0</td>\n",
       "    </tr>\n",
       "    <tr>\n",
       "      <th>4</th>\n",
       "      <td>86aaa48b45</td>\n",
       "      <td>В ролята също Възможността да изразяват и игра...</td>\n",
       "      <td>Децата могат да видят как са различни етническ...</td>\n",
       "      <td>bg</td>\n",
       "      <td>Bulgarian</td>\n",
       "      <td>1</td>\n",
       "    </tr>\n",
       "  </tbody>\n",
       "</table>\n",
       "</div>"
      ],
      "text/plain": [
       "           id                                            premise  \\\n",
       "0  5130fd2cb5  и тези коментари бяха взети предвид при формул...   \n",
       "1  5b72532a0b  Това са проблеми, с които се борим в практичес...   \n",
       "2  3931fbe82a  Малки неща като тези имат огромна разлика в то...   \n",
       "3  5622f0c60b  знаете, че не могат наистина да се защитят кат...   \n",
       "4  86aaa48b45  В ролята също Възможността да изразяват и игра...   \n",
       "\n",
       "                                          hypothesis lang_abv   language  \\\n",
       "0  Правилата, разработени във временното време, б...       bg  Bulgarian   \n",
       "1  Практическите групи не могат да работят по тез...       bg  Bulgarian   \n",
       "2                       Опитвах се да постигна нещо.       bg  Bulgarian   \n",
       "3     Те не могат да се защитят поради възрастта си.       bg  Bulgarian   \n",
       "4  Децата могат да видят как са различни етническ...       bg  Bulgarian   \n",
       "\n",
       "   label  \n",
       "0      0  \n",
       "1      2  \n",
       "2      0  \n",
       "3      0  \n",
       "4      1  "
      ]
     },
     "execution_count": 17,
     "metadata": {},
     "output_type": "execute_result"
    }
   ],
   "source": [
    "if GEN_UPSAMPLE:\n",
    "    #sanity check\n",
    "    train_bg = train\n",
    "    train_bg[['premise', 'hypothesis']] = list(zip(prems_bg, hyps_bg))\n",
    "    train_bg[['lang_abv', 'language']] = ['bg', 'Bulgarian']\n",
    "    train_bg.to_csv('train_bg.csv', index = False)\n",
    "train_bg.head()"
   ]
  },
  {
   "cell_type": "markdown",
   "execution_count": null,
   "metadata": {
    "papermill": {
     "duration": 3.155679,
     "end_time": "2020-09-07T02:24:31.912567",
     "exception": false,
     "start_time": "2020-09-07T02:24:28.756888",
     "status": "completed"
    },
    "tags": []
   },
   "source": [
    "# English Only"
   ]
  },
  {
   "cell_type": "code",
   "execution_count": 18,
   "metadata": {
    "execution": {
     "iopub.execute_input": "2020-09-07T02:24:38.177640Z",
     "iopub.status.busy": "2020-09-07T02:24:38.158562Z",
     "iopub.status.idle": "2020-09-07T02:24:38.269711Z",
     "shell.execute_reply": "2020-09-07T02:24:38.268965Z"
    },
    "papermill": {
     "duration": 3.306745,
     "end_time": "2020-09-07T02:24:38.269832",
     "exception": false,
     "start_time": "2020-09-07T02:24:34.963087",
     "status": "completed"
    },
    "tags": []
   },
   "outputs": [
    {
     "data": {
      "text/html": [
       "<div>\n",
       "<style scoped>\n",
       "    .dataframe tbody tr th:only-of-type {\n",
       "        vertical-align: middle;\n",
       "    }\n",
       "\n",
       "    .dataframe tbody tr th {\n",
       "        vertical-align: top;\n",
       "    }\n",
       "\n",
       "    .dataframe thead th {\n",
       "        text-align: right;\n",
       "    }\n",
       "</style>\n",
       "<table border=\"1\" class=\"dataframe\">\n",
       "  <thead>\n",
       "    <tr style=\"text-align: right;\">\n",
       "      <th></th>\n",
       "      <th>id</th>\n",
       "      <th>premise</th>\n",
       "      <th>hypothesis</th>\n",
       "      <th>lang_abv</th>\n",
       "      <th>language</th>\n",
       "      <th>label</th>\n",
       "    </tr>\n",
       "  </thead>\n",
       "  <tbody>\n",
       "    <tr>\n",
       "      <th>0</th>\n",
       "      <td>5130fd2cb5</td>\n",
       "      <td>and these comments were considered in formulat...</td>\n",
       "      <td>The rules developed in the interim were put to...</td>\n",
       "      <td>en</td>\n",
       "      <td>English</td>\n",
       "      <td>0</td>\n",
       "    </tr>\n",
       "    <tr>\n",
       "      <th>1</th>\n",
       "      <td>5b72532a0b</td>\n",
       "      <td>These are issues that we wrestle with in pract...</td>\n",
       "      <td>Practice groups are not permitted to work on t...</td>\n",
       "      <td>en</td>\n",
       "      <td>English</td>\n",
       "      <td>2</td>\n",
       "    </tr>\n",
       "    <tr>\n",
       "      <th>2</th>\n",
       "      <td>3931fbe82a</td>\n",
       "      <td>Little things like these make a huge differenc...</td>\n",
       "      <td>I was trying to accomplish something.</td>\n",
       "      <td>en</td>\n",
       "      <td>English</td>\n",
       "      <td>0</td>\n",
       "    </tr>\n",
       "    <tr>\n",
       "      <th>3</th>\n",
       "      <td>5622f0c60b</td>\n",
       "      <td>you know they can't really defend themselves l...</td>\n",
       "      <td>They can't defend themselves because of their ...</td>\n",
       "      <td>en</td>\n",
       "      <td>English</td>\n",
       "      <td>0</td>\n",
       "    </tr>\n",
       "    <tr>\n",
       "      <th>4</th>\n",
       "      <td>86aaa48b45</td>\n",
       "      <td>In role playing as well Opportunities to expre...</td>\n",
       "      <td>Children can see how different ethnic groups are.</td>\n",
       "      <td>en</td>\n",
       "      <td>English</td>\n",
       "      <td>1</td>\n",
       "    </tr>\n",
       "  </tbody>\n",
       "</table>\n",
       "</div>"
      ],
      "text/plain": [
       "           id                                            premise  \\\n",
       "0  5130fd2cb5  and these comments were considered in formulat...   \n",
       "1  5b72532a0b  These are issues that we wrestle with in pract...   \n",
       "2  3931fbe82a  Little things like these make a huge differenc...   \n",
       "3  5622f0c60b  you know they can't really defend themselves l...   \n",
       "4  86aaa48b45  In role playing as well Opportunities to expre...   \n",
       "\n",
       "                                          hypothesis lang_abv language  label  \n",
       "0  The rules developed in the interim were put to...       en  English      0  \n",
       "1  Practice groups are not permitted to work on t...       en  English      2  \n",
       "2              I was trying to accomplish something.       en  English      0  \n",
       "3  They can't defend themselves because of their ...       en  English      0  \n",
       "4  Children can see how different ethnic groups are.       en  English      1  "
      ]
     },
     "execution_count": 18,
     "metadata": {},
     "output_type": "execute_result"
    }
   ],
   "source": [
    "#translate to English\n",
    "prem_bag_en = bag.from_sequence(train['premise'].tolist()).map(lambda x: translation(x, lang = 'en'))\n",
    "hyp_bag_en =  bag.from_sequence(train['hypothesis'].tolist()).map(lambda x: translation(x, lang = 'en'))\n",
    "\n",
    "if GEN_EN_ONLY:\n",
    "    #sanity check\n",
    "    train_en = train\n",
    "    train_en[['premise', 'hypothesis']] = list(zip(prems_en, hyps_en))\n",
    "    train_en[['lang_abv', 'language']] = ['en', 'English']\n",
    "    train_en.to_csv('train_en.csv', index = False)\n",
    "\n",
    "else:\n",
    "    train_en = pd.read_csv(\"../input/contradictorytranslatedtrain/train_en.csv\")\n",
    "    \n",
    "#sanity check\n",
    "train_en.head()"
   ]
  },
  {
   "cell_type": "markdown",
   "execution_count": null,
   "metadata": {
    "papermill": {
     "duration": 3.075752,
     "end_time": "2020-09-07T02:24:44.478366",
     "exception": false,
     "start_time": "2020-09-07T02:24:41.402614",
     "status": "completed"
    },
    "tags": []
   },
   "source": [
    "**The English translated dataset can now be found [here](https://www.kaggle.com/tuckerarrants/contradictorytranslatedtrain)**"
   ]
  },
  {
   "cell_type": "code",
   "execution_count": null,
   "metadata": {
    "papermill": {
     "duration": 3.052051,
     "end_time": "2020-09-07T02:24:50.659297",
     "exception": false,
     "start_time": "2020-09-07T02:24:47.607246",
     "status": "completed"
    },
    "tags": []
   },
   "outputs": [],
   "source": []
  }
 ],
 "metadata": {
  "kernelspec": {
   "display_name": "Python 3",
   "language": "python",
   "name": "python3"
  },
  "language_info": {
   "codemirror_mode": {
    "name": "ipython",
    "version": 3
   },
   "file_extension": ".py",
   "mimetype": "text/x-python",
   "name": "python",
   "nbconvert_exporter": "python",
   "pygments_lexer": "ipython3",
   "version": "3.7.6"
  },
  "papermill": {
   "duration": 4816.659922,
   "end_time": "2020-09-07T02:24:53.941664",
   "environment_variables": {},
   "exception": null,
   "input_path": "__notebook__.ipynb",
   "output_path": "__notebook__.ipynb",
   "parameters": {},
   "start_time": "2020-09-07T01:04:37.281742",
   "version": "2.1.0"
  }
 },
 "nbformat": 4,
 "nbformat_minor": 4
}
